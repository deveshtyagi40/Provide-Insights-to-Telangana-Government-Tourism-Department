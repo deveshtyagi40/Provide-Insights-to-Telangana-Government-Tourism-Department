{
 "cells": [
  {
   "cell_type": "code",
   "execution_count": 2,
   "id": "2df09b9a",
   "metadata": {},
   "outputs": [],
   "source": [
    "import pandas as pd\n",
    "import numpy as np"
   ]
  },
  {
   "cell_type": "code",
   "execution_count": 3,
   "id": "c83becab",
   "metadata": {},
   "outputs": [],
   "source": [
    "df1=pd.read_csv('domestic_visitors_2016.csv')\n",
    "df2=pd.read_csv('domestic_visitors_2017.csv')\n",
    "df3=pd.read_csv('domestic_visitors_2018.csv')\n",
    "df4=pd.read_csv('domestic_visitors_2019.csv')"
   ]
  },
  {
   "cell_type": "code",
   "execution_count": 7,
   "id": "d9178a4f",
   "metadata": {},
   "outputs": [],
   "source": [
    "df=pd.concat([df1,df2,df3,df4])"
   ]
  },
  {
   "cell_type": "code",
   "execution_count": 9,
   "id": "b1fcdcbc",
   "metadata": {},
   "outputs": [],
   "source": [
    "df.to_csv('domestic_visitors.csv')"
   ]
  },
  {
   "cell_type": "code",
   "execution_count": 13,
   "id": "7315111b",
   "metadata": {},
   "outputs": [],
   "source": [
    "df5=pd.read_csv(r'C:\\Users\\deves\\OneDrive\\Documents\\Data Analysis\\C5 Input for participants\\C5 Input for participants\\foreign_visitors\\foreign_visitors_2016.csv')\n",
    "df6=pd.read_csv(r'C:\\Users\\deves\\OneDrive\\Documents\\Data Analysis\\C5 Input for participants\\C5 Input for participants\\foreign_visitors\\foreign_visitors_2017.csv')\n",
    "df7=pd.read_csv(r'C:\\Users\\deves\\OneDrive\\Documents\\Data Analysis\\C5 Input for participants\\C5 Input for participants\\foreign_visitors\\foreign_visitors_2018.csv')\n",
    "df8=pd.read_csv(r'C:\\Users\\deves\\OneDrive\\Documents\\Data Analysis\\C5 Input for participants\\C5 Input for participants\\foreign_visitors\\foreign_visitors_2019.csv')"
   ]
  },
  {
   "cell_type": "code",
   "execution_count": 14,
   "id": "49af58ba",
   "metadata": {},
   "outputs": [],
   "source": [
    "dff=pd.concat([df5,df6,df7,df8])"
   ]
  },
  {
   "cell_type": "code",
   "execution_count": 15,
   "id": "3cd285d3",
   "metadata": {},
   "outputs": [],
   "source": [
    "dff.to_csv('foreign_visitors.csv')"
   ]
  },
  {
   "cell_type": "code",
   "execution_count": null,
   "id": "f7d17ff6",
   "metadata": {},
   "outputs": [],
   "source": []
  }
 ],
 "metadata": {
  "kernelspec": {
   "display_name": "Python 3 (ipykernel)",
   "language": "python",
   "name": "python3"
  },
  "language_info": {
   "codemirror_mode": {
    "name": "ipython",
    "version": 3
   },
   "file_extension": ".py",
   "mimetype": "text/x-python",
   "name": "python",
   "nbconvert_exporter": "python",
   "pygments_lexer": "ipython3",
   "version": "3.10.9"
  }
 },
 "nbformat": 4,
 "nbformat_minor": 5
}
